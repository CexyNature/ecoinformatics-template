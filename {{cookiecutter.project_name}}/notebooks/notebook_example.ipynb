{
 "cells": [
  {
   "cell_type": "markdown",
   "id": "74bab9d3-8fc3-4d88-9ae9-2681634d8618",
   "metadata": {},
   "source": [
    "# Notebook example"
   ]
  },
  {
   "cell_type": "markdown",
   "id": "32569cdf-019e-4575-9741-b5824023bb81",
   "metadata": {},
   "source": [
    "Import packages and local modules required for your analysis"
   ]
  },
  {
   "cell_type": "code",
   "execution_count": 1,
   "id": "b4c9a4a8-f331-458f-81c5-d5516b4a993f",
   "metadata": {},
   "outputs": [],
   "source": [
    "import os\n",
    "import sys\n",
    "import matplotlib.pyplot as plt\n",
    "\n",
    "module_path = os.path.abspath(os.path.join('..'))\n",
    "module_path\n",
    "\n",
    "if module_path not in sys.path:\n",
    "    sys.path.append(module_path)\n",
    "\n",
    "import scripts.utils"
   ]
  },
  {
   "cell_type": "markdown",
   "id": "28dbd110-9e41-480a-a53a-3e648f440aed",
   "metadata": {},
   "source": [
    "Document your notebook with theorethical and practical considerations associated to the analysis. Also, make sure to list and justify any assumptions you take."
   ]
  },
  {
   "cell_type": "code",
   "execution_count": 2,
   "id": "680d689d-3de5-4d03-a9de-f7bc50511a5c",
   "metadata": {},
   "outputs": [
    {
     "data": {
      "image/png": "[encoded data removed]",
      "text/plain": [
       "<Figure size 576x576 with 1 Axes>"
      ]
     },
     "metadata": {},
     "output_type": "display_data"
    }
   ],
   "source": [
    "fig, x, y = scripts.utils.dummy_function(10, 10)"
   ]
  },
  {
   "cell_type": "code",
   "execution_count": 3,
   "id": "3a9fe65a-183e-45ec-837c-b308b407c5b8",
   "metadata": {},
   "outputs": [
    {
     "data": {
      "text/plain": [
       "'/Users/Cesar/PyCode_Sync/scientific-python/{{cookiecutter.project_name}}/outputs/figures/figure_01.jpg'"
      ]
     },
     "execution_count": 3,
     "metadata": {},
     "output_type": "execute_result"
    }
   ],
   "source": [
    "filename_figure = os.path.join(module_path, \"outputs/figures/figure_01.jpg\")"
   ]
  },
  {
   "cell_type": "code",
   "execution_count": 4,
   "id": "c9940881-634d-4ee6-8a35-9d8b896b25d0",
   "metadata": {},
   "outputs": [],
   "source": [
    "fig.savefig(filename_figure, dpi=600)"
   ]
  }
 ],
 "metadata": {
  "kernelspec": {
   "display_name": "Python 3 (ipykernel)",
   "language": "python",
   "name": "python3"
  },
  "language_info": {
   "codemirror_mode": {
    "name": "ipython",
    "version": 3
   },
   "file_extension": ".py",
   "mimetype": "text/x-python",
   "name": "python",
   "nbconvert_exporter": "python",
   "pygments_lexer": "ipython3",
   "version": "3.7.10"
  }
 },
 "nbformat": 4,
 "nbformat_minor": 5
}
